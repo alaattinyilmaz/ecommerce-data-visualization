{
 "cells": [
  {
   "cell_type": "markdown",
   "metadata": {},
   "source": [
    "# CS543 Project - eCommerce System\n",
    "## Data Preprocessing"
   ]
  },
  {
   "cell_type": "markdown",
   "metadata": {},
   "source": [
    "### Reading Data"
   ]
  },
  {
   "cell_type": "code",
   "execution_count": 1,
   "metadata": {},
   "outputs": [],
   "source": [
    "import numpy as np\n",
    "import matplotlib.pyplot as plt\n",
    "import pandas as pd"
   ]
  },
  {
   "cell_type": "code",
   "execution_count": 2,
   "metadata": {},
   "outputs": [],
   "source": [
    "df = pd.read_csv('data/ecommerce.csv',encoding='unicode_escape')"
   ]
  },
  {
   "cell_type": "code",
   "execution_count": 3,
   "metadata": {},
   "outputs": [
    {
     "data": {
      "text/plain": [
       "541909"
      ]
     },
     "execution_count": 3,
     "metadata": {},
     "output_type": "execute_result"
    }
   ],
   "source": [
    "len(df)"
   ]
  },
  {
   "cell_type": "code",
   "execution_count": 4,
   "metadata": {},
   "outputs": [],
   "source": [
    "df.drop(df[df['Quantity'] < 0].index, inplace = True) \n",
    "df.drop(df[df['UnitPrice'] < 0].index, inplace = True)\n",
    "#df['CustomerID'].fillna('XXXXX')\n",
    "#df.drop(df[df['CustomerID'] == 0].index, inplace = True)\n",
    "#df.dropna(subset=['CustomerID'])"
   ]
  },
  {
   "cell_type": "code",
   "execution_count": 5,
   "metadata": {},
   "outputs": [
    {
     "data": {
      "text/html": [
       "<div>\n",
       "<style scoped>\n",
       "    .dataframe tbody tr th:only-of-type {\n",
       "        vertical-align: middle;\n",
       "    }\n",
       "\n",
       "    .dataframe tbody tr th {\n",
       "        vertical-align: top;\n",
       "    }\n",
       "\n",
       "    .dataframe thead th {\n",
       "        text-align: right;\n",
       "    }\n",
       "</style>\n",
       "<table border=\"1\" class=\"dataframe\">\n",
       "  <thead>\n",
       "    <tr style=\"text-align: right;\">\n",
       "      <th></th>\n",
       "      <th>InvoiceNo</th>\n",
       "      <th>StockCode</th>\n",
       "      <th>Description</th>\n",
       "      <th>Quantity</th>\n",
       "      <th>InvoiceDate</th>\n",
       "      <th>UnitPrice</th>\n",
       "      <th>CustomerID</th>\n",
       "      <th>Country</th>\n",
       "    </tr>\n",
       "  </thead>\n",
       "  <tbody>\n",
       "    <tr>\n",
       "      <th>541889</th>\n",
       "      <td>581585</td>\n",
       "      <td>22466</td>\n",
       "      <td>FAIRY TALE COTTAGE NIGHT LIGHT</td>\n",
       "      <td>12</td>\n",
       "      <td>12/9/2011 12:31</td>\n",
       "      <td>1.95</td>\n",
       "      <td>15804.0</td>\n",
       "      <td>United Kingdom</td>\n",
       "    </tr>\n",
       "    <tr>\n",
       "      <th>541890</th>\n",
       "      <td>581586</td>\n",
       "      <td>22061</td>\n",
       "      <td>LARGE CAKE STAND  HANGING STRAWBERY</td>\n",
       "      <td>8</td>\n",
       "      <td>12/9/2011 12:49</td>\n",
       "      <td>2.95</td>\n",
       "      <td>13113.0</td>\n",
       "      <td>United Kingdom</td>\n",
       "    </tr>\n",
       "    <tr>\n",
       "      <th>541891</th>\n",
       "      <td>581586</td>\n",
       "      <td>23275</td>\n",
       "      <td>SET OF 3 HANGING OWLS OLLIE BEAK</td>\n",
       "      <td>24</td>\n",
       "      <td>12/9/2011 12:49</td>\n",
       "      <td>1.25</td>\n",
       "      <td>13113.0</td>\n",
       "      <td>United Kingdom</td>\n",
       "    </tr>\n",
       "    <tr>\n",
       "      <th>541892</th>\n",
       "      <td>581586</td>\n",
       "      <td>21217</td>\n",
       "      <td>RED RETROSPOT ROUND CAKE TINS</td>\n",
       "      <td>24</td>\n",
       "      <td>12/9/2011 12:49</td>\n",
       "      <td>8.95</td>\n",
       "      <td>13113.0</td>\n",
       "      <td>United Kingdom</td>\n",
       "    </tr>\n",
       "    <tr>\n",
       "      <th>541893</th>\n",
       "      <td>581586</td>\n",
       "      <td>20685</td>\n",
       "      <td>DOORMAT RED RETROSPOT</td>\n",
       "      <td>10</td>\n",
       "      <td>12/9/2011 12:49</td>\n",
       "      <td>7.08</td>\n",
       "      <td>13113.0</td>\n",
       "      <td>United Kingdom</td>\n",
       "    </tr>\n",
       "    <tr>\n",
       "      <th>541894</th>\n",
       "      <td>581587</td>\n",
       "      <td>22631</td>\n",
       "      <td>CIRCUS PARADE LUNCH BOX</td>\n",
       "      <td>12</td>\n",
       "      <td>12/9/2011 12:50</td>\n",
       "      <td>1.95</td>\n",
       "      <td>12680.0</td>\n",
       "      <td>France</td>\n",
       "    </tr>\n",
       "    <tr>\n",
       "      <th>541895</th>\n",
       "      <td>581587</td>\n",
       "      <td>22556</td>\n",
       "      <td>PLASTERS IN TIN CIRCUS PARADE</td>\n",
       "      <td>12</td>\n",
       "      <td>12/9/2011 12:50</td>\n",
       "      <td>1.65</td>\n",
       "      <td>12680.0</td>\n",
       "      <td>France</td>\n",
       "    </tr>\n",
       "    <tr>\n",
       "      <th>541896</th>\n",
       "      <td>581587</td>\n",
       "      <td>22555</td>\n",
       "      <td>PLASTERS IN TIN STRONGMAN</td>\n",
       "      <td>12</td>\n",
       "      <td>12/9/2011 12:50</td>\n",
       "      <td>1.65</td>\n",
       "      <td>12680.0</td>\n",
       "      <td>France</td>\n",
       "    </tr>\n",
       "    <tr>\n",
       "      <th>541897</th>\n",
       "      <td>581587</td>\n",
       "      <td>22728</td>\n",
       "      <td>ALARM CLOCK BAKELIKE PINK</td>\n",
       "      <td>4</td>\n",
       "      <td>12/9/2011 12:50</td>\n",
       "      <td>3.75</td>\n",
       "      <td>12680.0</td>\n",
       "      <td>France</td>\n",
       "    </tr>\n",
       "    <tr>\n",
       "      <th>541898</th>\n",
       "      <td>581587</td>\n",
       "      <td>22727</td>\n",
       "      <td>ALARM CLOCK BAKELIKE RED</td>\n",
       "      <td>4</td>\n",
       "      <td>12/9/2011 12:50</td>\n",
       "      <td>3.75</td>\n",
       "      <td>12680.0</td>\n",
       "      <td>France</td>\n",
       "    </tr>\n",
       "    <tr>\n",
       "      <th>541899</th>\n",
       "      <td>581587</td>\n",
       "      <td>22726</td>\n",
       "      <td>ALARM CLOCK BAKELIKE GREEN</td>\n",
       "      <td>4</td>\n",
       "      <td>12/9/2011 12:50</td>\n",
       "      <td>3.75</td>\n",
       "      <td>12680.0</td>\n",
       "      <td>France</td>\n",
       "    </tr>\n",
       "    <tr>\n",
       "      <th>541900</th>\n",
       "      <td>581587</td>\n",
       "      <td>22730</td>\n",
       "      <td>ALARM CLOCK BAKELIKE IVORY</td>\n",
       "      <td>4</td>\n",
       "      <td>12/9/2011 12:50</td>\n",
       "      <td>3.75</td>\n",
       "      <td>12680.0</td>\n",
       "      <td>France</td>\n",
       "    </tr>\n",
       "    <tr>\n",
       "      <th>541901</th>\n",
       "      <td>581587</td>\n",
       "      <td>22367</td>\n",
       "      <td>CHILDRENS APRON SPACEBOY DESIGN</td>\n",
       "      <td>8</td>\n",
       "      <td>12/9/2011 12:50</td>\n",
       "      <td>1.95</td>\n",
       "      <td>12680.0</td>\n",
       "      <td>France</td>\n",
       "    </tr>\n",
       "    <tr>\n",
       "      <th>541902</th>\n",
       "      <td>581587</td>\n",
       "      <td>22629</td>\n",
       "      <td>SPACEBOY LUNCH BOX</td>\n",
       "      <td>12</td>\n",
       "      <td>12/9/2011 12:50</td>\n",
       "      <td>1.95</td>\n",
       "      <td>12680.0</td>\n",
       "      <td>France</td>\n",
       "    </tr>\n",
       "    <tr>\n",
       "      <th>541903</th>\n",
       "      <td>581587</td>\n",
       "      <td>23256</td>\n",
       "      <td>CHILDRENS CUTLERY SPACEBOY</td>\n",
       "      <td>4</td>\n",
       "      <td>12/9/2011 12:50</td>\n",
       "      <td>4.15</td>\n",
       "      <td>12680.0</td>\n",
       "      <td>France</td>\n",
       "    </tr>\n",
       "    <tr>\n",
       "      <th>541904</th>\n",
       "      <td>581587</td>\n",
       "      <td>22613</td>\n",
       "      <td>PACK OF 20 SPACEBOY NAPKINS</td>\n",
       "      <td>12</td>\n",
       "      <td>12/9/2011 12:50</td>\n",
       "      <td>0.85</td>\n",
       "      <td>12680.0</td>\n",
       "      <td>France</td>\n",
       "    </tr>\n",
       "    <tr>\n",
       "      <th>541905</th>\n",
       "      <td>581587</td>\n",
       "      <td>22899</td>\n",
       "      <td>CHILDREN'S APRON DOLLY GIRL</td>\n",
       "      <td>6</td>\n",
       "      <td>12/9/2011 12:50</td>\n",
       "      <td>2.10</td>\n",
       "      <td>12680.0</td>\n",
       "      <td>France</td>\n",
       "    </tr>\n",
       "    <tr>\n",
       "      <th>541906</th>\n",
       "      <td>581587</td>\n",
       "      <td>23254</td>\n",
       "      <td>CHILDRENS CUTLERY DOLLY GIRL</td>\n",
       "      <td>4</td>\n",
       "      <td>12/9/2011 12:50</td>\n",
       "      <td>4.15</td>\n",
       "      <td>12680.0</td>\n",
       "      <td>France</td>\n",
       "    </tr>\n",
       "    <tr>\n",
       "      <th>541907</th>\n",
       "      <td>581587</td>\n",
       "      <td>23255</td>\n",
       "      <td>CHILDRENS CUTLERY CIRCUS PARADE</td>\n",
       "      <td>4</td>\n",
       "      <td>12/9/2011 12:50</td>\n",
       "      <td>4.15</td>\n",
       "      <td>12680.0</td>\n",
       "      <td>France</td>\n",
       "    </tr>\n",
       "    <tr>\n",
       "      <th>541908</th>\n",
       "      <td>581587</td>\n",
       "      <td>22138</td>\n",
       "      <td>BAKING SET 9 PIECE RETROSPOT</td>\n",
       "      <td>3</td>\n",
       "      <td>12/9/2011 12:50</td>\n",
       "      <td>4.95</td>\n",
       "      <td>12680.0</td>\n",
       "      <td>France</td>\n",
       "    </tr>\n",
       "  </tbody>\n",
       "</table>\n",
       "</div>"
      ],
      "text/plain": [
       "       InvoiceNo StockCode                          Description  Quantity  \\\n",
       "541889    581585     22466       FAIRY TALE COTTAGE NIGHT LIGHT        12   \n",
       "541890    581586     22061  LARGE CAKE STAND  HANGING STRAWBERY         8   \n",
       "541891    581586     23275     SET OF 3 HANGING OWLS OLLIE BEAK        24   \n",
       "541892    581586     21217        RED RETROSPOT ROUND CAKE TINS        24   \n",
       "541893    581586     20685                DOORMAT RED RETROSPOT        10   \n",
       "541894    581587     22631             CIRCUS PARADE LUNCH BOX         12   \n",
       "541895    581587     22556       PLASTERS IN TIN CIRCUS PARADE         12   \n",
       "541896    581587     22555            PLASTERS IN TIN STRONGMAN        12   \n",
       "541897    581587     22728            ALARM CLOCK BAKELIKE PINK         4   \n",
       "541898    581587     22727            ALARM CLOCK BAKELIKE RED          4   \n",
       "541899    581587     22726           ALARM CLOCK BAKELIKE GREEN         4   \n",
       "541900    581587     22730           ALARM CLOCK BAKELIKE IVORY         4   \n",
       "541901    581587     22367      CHILDRENS APRON SPACEBOY DESIGN         8   \n",
       "541902    581587     22629                  SPACEBOY LUNCH BOX         12   \n",
       "541903    581587     23256          CHILDRENS CUTLERY SPACEBOY          4   \n",
       "541904    581587     22613          PACK OF 20 SPACEBOY NAPKINS        12   \n",
       "541905    581587     22899         CHILDREN'S APRON DOLLY GIRL          6   \n",
       "541906    581587     23254        CHILDRENS CUTLERY DOLLY GIRL          4   \n",
       "541907    581587     23255      CHILDRENS CUTLERY CIRCUS PARADE         4   \n",
       "541908    581587     22138        BAKING SET 9 PIECE RETROSPOT          3   \n",
       "\n",
       "            InvoiceDate  UnitPrice  CustomerID         Country  \n",
       "541889  12/9/2011 12:31       1.95     15804.0  United Kingdom  \n",
       "541890  12/9/2011 12:49       2.95     13113.0  United Kingdom  \n",
       "541891  12/9/2011 12:49       1.25     13113.0  United Kingdom  \n",
       "541892  12/9/2011 12:49       8.95     13113.0  United Kingdom  \n",
       "541893  12/9/2011 12:49       7.08     13113.0  United Kingdom  \n",
       "541894  12/9/2011 12:50       1.95     12680.0          France  \n",
       "541895  12/9/2011 12:50       1.65     12680.0          France  \n",
       "541896  12/9/2011 12:50       1.65     12680.0          France  \n",
       "541897  12/9/2011 12:50       3.75     12680.0          France  \n",
       "541898  12/9/2011 12:50       3.75     12680.0          France  \n",
       "541899  12/9/2011 12:50       3.75     12680.0          France  \n",
       "541900  12/9/2011 12:50       3.75     12680.0          France  \n",
       "541901  12/9/2011 12:50       1.95     12680.0          France  \n",
       "541902  12/9/2011 12:50       1.95     12680.0          France  \n",
       "541903  12/9/2011 12:50       4.15     12680.0          France  \n",
       "541904  12/9/2011 12:50       0.85     12680.0          France  \n",
       "541905  12/9/2011 12:50       2.10     12680.0          France  \n",
       "541906  12/9/2011 12:50       4.15     12680.0          France  \n",
       "541907  12/9/2011 12:50       4.15     12680.0          France  \n",
       "541908  12/9/2011 12:50       4.95     12680.0          France  "
      ]
     },
     "execution_count": 5,
     "metadata": {},
     "output_type": "execute_result"
    }
   ],
   "source": [
    "df.tail(20)"
   ]
  },
  {
   "cell_type": "code",
   "execution_count": 6,
   "metadata": {},
   "outputs": [],
   "source": [
    "# Grouping data by invoiceno to get the orders processed\n",
    "gb = df.groupby('InvoiceNo')"
   ]
  },
  {
   "cell_type": "code",
   "execution_count": 7,
   "metadata": {},
   "outputs": [
    {
     "name": "stdout",
     "output_type": "stream",
     "text": [
      "Number of transactions: 20726\n"
     ]
    }
   ],
   "source": [
    "print(\"Number of transactions:\", len(gb))"
   ]
  },
  {
   "cell_type": "markdown",
   "metadata": {},
   "source": [
    "### Grouping of data into one dataframe "
   ]
  },
  {
   "cell_type": "code",
   "execution_count": 8,
   "metadata": {},
   "outputs": [],
   "source": [
    "cart_amounts = gb.apply(lambda df,a,b: sum(df[a] * df[b]), 'Quantity', 'UnitPrice')"
   ]
  },
  {
   "cell_type": "code",
   "execution_count": 9,
   "metadata": {},
   "outputs": [],
   "source": [
    "purchased_items = gb['Description'].apply(list)"
   ]
  },
  {
   "cell_type": "code",
   "execution_count": 10,
   "metadata": {},
   "outputs": [],
   "source": [
    "customer_ids = gb['CustomerID'].unique().str[0]"
   ]
  },
  {
   "cell_type": "code",
   "execution_count": 11,
   "metadata": {},
   "outputs": [],
   "source": [
    "invoice_dates = gb['InvoiceDate'].unique().str[0]"
   ]
  },
  {
   "cell_type": "code",
   "execution_count": 12,
   "metadata": {},
   "outputs": [],
   "source": [
    "stock_codes = gb['StockCode'].unique()"
   ]
  },
  {
   "cell_type": "code",
   "execution_count": 13,
   "metadata": {},
   "outputs": [],
   "source": [
    "countries = gb['Country'].unique().str[0]"
   ]
  },
  {
   "cell_type": "code",
   "execution_count": 14,
   "metadata": {},
   "outputs": [],
   "source": [
    "people_transactions = df.groupby('CustomerID')['InvoiceNo'].apply(list).to_dict()"
   ]
  },
  {
   "cell_type": "code",
   "execution_count": 15,
   "metadata": {},
   "outputs": [],
   "source": [
    "stock_code_dict = df.groupby('StockCode')['Description'].unique().apply(list).to_dict()"
   ]
  },
  {
   "cell_type": "code",
   "execution_count": 16,
   "metadata": {},
   "outputs": [],
   "source": [
    "df_new = pd.DataFrame({\"CartAmount\":cart_amounts})"
   ]
  },
  {
   "cell_type": "code",
   "execution_count": 17,
   "metadata": {},
   "outputs": [],
   "source": [
    "df_new['InvoiceDate'] = invoice_dates"
   ]
  },
  {
   "cell_type": "code",
   "execution_count": 18,
   "metadata": {},
   "outputs": [],
   "source": [
    "df_new['PurchasedItems'] = purchased_items"
   ]
  },
  {
   "cell_type": "code",
   "execution_count": 19,
   "metadata": {},
   "outputs": [],
   "source": [
    "df_new['StockCodes'] = stock_codes"
   ]
  },
  {
   "cell_type": "code",
   "execution_count": 20,
   "metadata": {},
   "outputs": [],
   "source": [
    "df_new['CustomerID'] = customer_ids"
   ]
  },
  {
   "cell_type": "code",
   "execution_count": 21,
   "metadata": {},
   "outputs": [],
   "source": [
    "df_new['CustomerID'] = df_new['CustomerID'].fillna('XXXXX')"
   ]
  },
  {
   "cell_type": "code",
   "execution_count": 22,
   "metadata": {},
   "outputs": [],
   "source": [
    "df_new['Country'] = countries"
   ]
  },
  {
   "cell_type": "code",
   "execution_count": 23,
   "metadata": {},
   "outputs": [],
   "source": [
    "transactions = df_new"
   ]
  },
  {
   "cell_type": "code",
   "execution_count": 24,
   "metadata": {},
   "outputs": [],
   "source": [
    "#transactions.drop(transactions[transactions['CustomerID'] == \"XXXXX\"].index, inplace = True)"
   ]
  },
  {
   "cell_type": "code",
   "execution_count": 25,
   "metadata": {
    "scrolled": false
   },
   "outputs": [],
   "source": [
    "# Splitting dates into days\n",
    "dates_splitted = transactions['InvoiceDate'].str.split().str[0].str.split('/').str\n",
    "transactions['InvoiceDay'] = dates_splitted[2]+'-'+dates_splitted[0].str.zfill(2)+'-'+dates_splitted[1].str.zfill(2)\n",
    "transactions['MonthDate'] = dates_splitted[2]+'-'+dates_splitted[0].str.zfill(2)"
   ]
  },
  {
   "cell_type": "code",
   "execution_count": 178,
   "metadata": {},
   "outputs": [
    {
     "data": {
      "text/plain": [
       "array(['United Kingdom', 'France', 'Australia', 'Netherlands', 'Germany',\n",
       "       'Norway', 'EIRE', 'Switzerland', 'Spain', 'Poland', 'Portugal',\n",
       "       'Italy', 'Belgium', 'Lithuania', 'Japan', 'Iceland',\n",
       "       'Channel Islands', 'Denmark', 'Cyprus', 'Sweden', 'Finland',\n",
       "       'Austria', 'Bahrain', 'Israel', 'Greece', 'Hong Kong', 'Singapore',\n",
       "       'Lebanon', 'United Arab Emirates', 'Saudi Arabia',\n",
       "       'Czech Republic', 'Canada', 'Unspecified', 'Brazil', 'USA',\n",
       "       'European Community', 'Malta', 'RSA'], dtype=object)"
      ]
     },
     "execution_count": 178,
     "metadata": {},
     "output_type": "execute_result"
    }
   ],
   "source": [
    "countries.unique().to_csv(\"countries.csv\",)"
   ]
  },
  {
   "cell_type": "markdown",
   "metadata": {},
   "source": [
    "### Transactions Table"
   ]
  },
  {
   "cell_type": "code",
   "execution_count": 26,
   "metadata": {
    "scrolled": false
   },
   "outputs": [
    {
     "data": {
      "text/html": [
       "<div>\n",
       "<style scoped>\n",
       "    .dataframe tbody tr th:only-of-type {\n",
       "        vertical-align: middle;\n",
       "    }\n",
       "\n",
       "    .dataframe tbody tr th {\n",
       "        vertical-align: top;\n",
       "    }\n",
       "\n",
       "    .dataframe thead th {\n",
       "        text-align: right;\n",
       "    }\n",
       "</style>\n",
       "<table border=\"1\" class=\"dataframe\">\n",
       "  <thead>\n",
       "    <tr style=\"text-align: right;\">\n",
       "      <th></th>\n",
       "      <th>CartAmount</th>\n",
       "      <th>InvoiceDate</th>\n",
       "      <th>PurchasedItems</th>\n",
       "      <th>StockCodes</th>\n",
       "      <th>CustomerID</th>\n",
       "      <th>Country</th>\n",
       "      <th>InvoiceDay</th>\n",
       "      <th>MonthDate</th>\n",
       "    </tr>\n",
       "    <tr>\n",
       "      <th>InvoiceNo</th>\n",
       "      <th></th>\n",
       "      <th></th>\n",
       "      <th></th>\n",
       "      <th></th>\n",
       "      <th></th>\n",
       "      <th></th>\n",
       "      <th></th>\n",
       "      <th></th>\n",
       "    </tr>\n",
       "  </thead>\n",
       "  <tbody>\n",
       "    <tr>\n",
       "      <th>536365</th>\n",
       "      <td>139.12</td>\n",
       "      <td>12/1/2010 8:26</td>\n",
       "      <td>[WHITE HANGING HEART T-LIGHT HOLDER, WHITE MET...</td>\n",
       "      <td>[85123A, 71053, 84406B, 84029G, 84029E, 22752,...</td>\n",
       "      <td>17850</td>\n",
       "      <td>United Kingdom</td>\n",
       "      <td>2010-12-01</td>\n",
       "      <td>2010-12</td>\n",
       "    </tr>\n",
       "    <tr>\n",
       "      <th>536366</th>\n",
       "      <td>22.20</td>\n",
       "      <td>12/1/2010 8:28</td>\n",
       "      <td>[HAND WARMER UNION JACK, HAND WARMER RED POLKA...</td>\n",
       "      <td>[22633, 22632]</td>\n",
       "      <td>17850</td>\n",
       "      <td>United Kingdom</td>\n",
       "      <td>2010-12-01</td>\n",
       "      <td>2010-12</td>\n",
       "    </tr>\n",
       "    <tr>\n",
       "      <th>536367</th>\n",
       "      <td>278.73</td>\n",
       "      <td>12/1/2010 8:34</td>\n",
       "      <td>[ASSORTED COLOUR BIRD ORNAMENT, POPPY'S PLAYHO...</td>\n",
       "      <td>[84879, 22745, 22748, 22749, 22310, 84969, 226...</td>\n",
       "      <td>13047</td>\n",
       "      <td>United Kingdom</td>\n",
       "      <td>2010-12-01</td>\n",
       "      <td>2010-12</td>\n",
       "    </tr>\n",
       "    <tr>\n",
       "      <th>536368</th>\n",
       "      <td>70.05</td>\n",
       "      <td>12/1/2010 8:34</td>\n",
       "      <td>[JAM MAKING SET WITH JARS, RED COAT RACK PARIS...</td>\n",
       "      <td>[22960, 22913, 22912, 22914]</td>\n",
       "      <td>13047</td>\n",
       "      <td>United Kingdom</td>\n",
       "      <td>2010-12-01</td>\n",
       "      <td>2010-12</td>\n",
       "    </tr>\n",
       "    <tr>\n",
       "      <th>536369</th>\n",
       "      <td>17.85</td>\n",
       "      <td>12/1/2010 8:35</td>\n",
       "      <td>[BATH BUILDING BLOCK WORD]</td>\n",
       "      <td>[21756]</td>\n",
       "      <td>13047</td>\n",
       "      <td>United Kingdom</td>\n",
       "      <td>2010-12-01</td>\n",
       "      <td>2010-12</td>\n",
       "    </tr>\n",
       "    <tr>\n",
       "      <th>536370</th>\n",
       "      <td>855.86</td>\n",
       "      <td>12/1/2010 8:45</td>\n",
       "      <td>[ALARM CLOCK BAKELIKE PINK, ALARM CLOCK BAKELI...</td>\n",
       "      <td>[22728, 22727, 22726, 21724, 21883, 10002, 217...</td>\n",
       "      <td>12583</td>\n",
       "      <td>France</td>\n",
       "      <td>2010-12-01</td>\n",
       "      <td>2010-12</td>\n",
       "    </tr>\n",
       "    <tr>\n",
       "      <th>536371</th>\n",
       "      <td>204.00</td>\n",
       "      <td>12/1/2010 9:00</td>\n",
       "      <td>[PAPER CHAIN KIT 50'S CHRISTMAS ]</td>\n",
       "      <td>[22086]</td>\n",
       "      <td>13748</td>\n",
       "      <td>United Kingdom</td>\n",
       "      <td>2010-12-01</td>\n",
       "      <td>2010-12</td>\n",
       "    </tr>\n",
       "    <tr>\n",
       "      <th>536372</th>\n",
       "      <td>22.20</td>\n",
       "      <td>12/1/2010 9:01</td>\n",
       "      <td>[HAND WARMER RED POLKA DOT, HAND WARMER UNION ...</td>\n",
       "      <td>[22632, 22633]</td>\n",
       "      <td>17850</td>\n",
       "      <td>United Kingdom</td>\n",
       "      <td>2010-12-01</td>\n",
       "      <td>2010-12</td>\n",
       "    </tr>\n",
       "    <tr>\n",
       "      <th>536373</th>\n",
       "      <td>259.86</td>\n",
       "      <td>12/1/2010 9:02</td>\n",
       "      <td>[WHITE HANGING HEART T-LIGHT HOLDER, WHITE MET...</td>\n",
       "      <td>[85123A, 71053, 84406B, 20679, 37370, 21871, 2...</td>\n",
       "      <td>17850</td>\n",
       "      <td>United Kingdom</td>\n",
       "      <td>2010-12-01</td>\n",
       "      <td>2010-12</td>\n",
       "    </tr>\n",
       "    <tr>\n",
       "      <th>536374</th>\n",
       "      <td>350.40</td>\n",
       "      <td>12/1/2010 9:09</td>\n",
       "      <td>[VICTORIAN SEWING BOX LARGE]</td>\n",
       "      <td>[21258]</td>\n",
       "      <td>15100</td>\n",
       "      <td>United Kingdom</td>\n",
       "      <td>2010-12-01</td>\n",
       "      <td>2010-12</td>\n",
       "    </tr>\n",
       "  </tbody>\n",
       "</table>\n",
       "</div>"
      ],
      "text/plain": [
       "           CartAmount     InvoiceDate  \\\n",
       "InvoiceNo                               \n",
       "536365         139.12  12/1/2010 8:26   \n",
       "536366          22.20  12/1/2010 8:28   \n",
       "536367         278.73  12/1/2010 8:34   \n",
       "536368          70.05  12/1/2010 8:34   \n",
       "536369          17.85  12/1/2010 8:35   \n",
       "536370         855.86  12/1/2010 8:45   \n",
       "536371         204.00  12/1/2010 9:00   \n",
       "536372          22.20  12/1/2010 9:01   \n",
       "536373         259.86  12/1/2010 9:02   \n",
       "536374         350.40  12/1/2010 9:09   \n",
       "\n",
       "                                              PurchasedItems  \\\n",
       "InvoiceNo                                                      \n",
       "536365     [WHITE HANGING HEART T-LIGHT HOLDER, WHITE MET...   \n",
       "536366     [HAND WARMER UNION JACK, HAND WARMER RED POLKA...   \n",
       "536367     [ASSORTED COLOUR BIRD ORNAMENT, POPPY'S PLAYHO...   \n",
       "536368     [JAM MAKING SET WITH JARS, RED COAT RACK PARIS...   \n",
       "536369                            [BATH BUILDING BLOCK WORD]   \n",
       "536370     [ALARM CLOCK BAKELIKE PINK, ALARM CLOCK BAKELI...   \n",
       "536371                     [PAPER CHAIN KIT 50'S CHRISTMAS ]   \n",
       "536372     [HAND WARMER RED POLKA DOT, HAND WARMER UNION ...   \n",
       "536373     [WHITE HANGING HEART T-LIGHT HOLDER, WHITE MET...   \n",
       "536374                          [VICTORIAN SEWING BOX LARGE]   \n",
       "\n",
       "                                                  StockCodes CustomerID  \\\n",
       "InvoiceNo                                                                 \n",
       "536365     [85123A, 71053, 84406B, 84029G, 84029E, 22752,...      17850   \n",
       "536366                                        [22633, 22632]      17850   \n",
       "536367     [84879, 22745, 22748, 22749, 22310, 84969, 226...      13047   \n",
       "536368                          [22960, 22913, 22912, 22914]      13047   \n",
       "536369                                               [21756]      13047   \n",
       "536370     [22728, 22727, 22726, 21724, 21883, 10002, 217...      12583   \n",
       "536371                                               [22086]      13748   \n",
       "536372                                        [22632, 22633]      17850   \n",
       "536373     [85123A, 71053, 84406B, 20679, 37370, 21871, 2...      17850   \n",
       "536374                                               [21258]      15100   \n",
       "\n",
       "                  Country  InvoiceDay MonthDate  \n",
       "InvoiceNo                                        \n",
       "536365     United Kingdom  2010-12-01   2010-12  \n",
       "536366     United Kingdom  2010-12-01   2010-12  \n",
       "536367     United Kingdom  2010-12-01   2010-12  \n",
       "536368     United Kingdom  2010-12-01   2010-12  \n",
       "536369     United Kingdom  2010-12-01   2010-12  \n",
       "536370             France  2010-12-01   2010-12  \n",
       "536371     United Kingdom  2010-12-01   2010-12  \n",
       "536372     United Kingdom  2010-12-01   2010-12  \n",
       "536373     United Kingdom  2010-12-01   2010-12  \n",
       "536374     United Kingdom  2010-12-01   2010-12  "
      ]
     },
     "execution_count": 26,
     "metadata": {},
     "output_type": "execute_result"
    }
   ],
   "source": [
    "transactions.head(10)"
   ]
  },
  {
   "cell_type": "markdown",
   "metadata": {},
   "source": [
    "###  Categorizing Data"
   ]
  },
  {
   "cell_type": "code",
   "execution_count": 27,
   "metadata": {},
   "outputs": [
    {
     "name": "stdout",
     "output_type": "stream",
     "text": [
      "InvoiceDay\n",
      "2010-12-01    136\n",
      "2010-12-02    143\n",
      "2010-12-03     73\n",
      "2010-12-05     88\n",
      "2010-12-06    108\n",
      "             ... \n",
      "2011-12-05    132\n",
      "2011-12-06    116\n",
      "2011-12-07    112\n",
      "2011-12-08    123\n",
      "2011-12-09     44\n",
      "Name: MonthDate, Length: 305, dtype: int64\n"
     ]
    }
   ],
   "source": [
    "# Number of transactions per day\n",
    "day_counts = transactions.groupby('InvoiceDay')['MonthDate'].count()\n",
    "print(day_counts)"
   ]
  },
  {
   "cell_type": "code",
   "execution_count": 28,
   "metadata": {},
   "outputs": [
    {
     "name": "stdout",
     "output_type": "stream",
     "text": [
      "Transactions:  20726 Number of Days:  305\n"
     ]
    }
   ],
   "source": [
    "print(\"Transactions: \", len(transactions), \"Number of Days: \", len(day_counts))"
   ]
  },
  {
   "cell_type": "code",
   "execution_count": 29,
   "metadata": {},
   "outputs": [
    {
     "data": {
      "text/plain": [
       "MonthDate\n",
       "2010-12    1629\n",
       "2011-01    1120\n",
       "2011-02    1126\n",
       "2011-03    1531\n",
       "2011-04    1318\n",
       "2011-05    1731\n",
       "2011-06    1576\n",
       "2011-07    1540\n",
       "2011-08    1407\n",
       "2011-09    1896\n",
       "2011-10    2129\n",
       "2011-11    2884\n",
       "2011-12     839\n",
       "Name: MonthDate, dtype: int64"
      ]
     },
     "execution_count": 29,
     "metadata": {},
     "output_type": "execute_result"
    }
   ],
   "source": [
    "#day_counts.to_csv('day_counts.csv', index=True)\n",
    "# Number of transactions per month\n",
    "transactions.groupby('MonthDate')['MonthDate'].count()"
   ]
  },
  {
   "cell_type": "code",
   "execution_count": 30,
   "metadata": {},
   "outputs": [
    {
     "name": "stdout",
     "output_type": "stream",
     "text": [
      "            CartAmount\n",
      "CustomerID            \n",
      "12346.0              1\n",
      "12347.0              7\n",
      "12348.0              4\n",
      "12349.0              1\n",
      "12350.0              1\n",
      "...                ...\n",
      "18281.0              1\n",
      "18282.0              2\n",
      "18283.0             16\n",
      "18287.0              3\n",
      "XXXXX             2190\n",
      "\n",
      "[4340 rows x 1 columns]\n"
     ]
    }
   ],
   "source": [
    "# Number of transactions per person\n",
    "cart_amounts = transactions.groupby('CustomerID')['CartAmount'].count()\n",
    "ca = pd.DataFrame({\"CartAmount\":cart_amounts})\n",
    "print(ca)\n",
    "#ca.to_csv('transactions_per_person.csv', index=True)"
   ]
  },
  {
   "cell_type": "code",
   "execution_count": 31,
   "metadata": {},
   "outputs": [
    {
     "name": "stdout",
     "output_type": "stream",
     "text": [
      "            CartAmount\n",
      "CustomerID            \n",
      "12346.0       77183.60\n",
      "12347.0        4310.00\n",
      "12348.0        1797.24\n",
      "12349.0        1757.55\n",
      "12350.0         334.40\n",
      "...                ...\n",
      "18281.0          80.82\n",
      "18282.0         178.05\n",
      "18283.0        2094.88\n",
      "18287.0        1837.28\n",
      "XXXXX       1755276.64\n",
      "\n",
      "[4340 rows x 1 columns]\n"
     ]
    }
   ],
   "source": [
    "# Money spent by each person\n",
    "money_spent_per_person = transactions.groupby('CustomerID').sum()\n",
    "print(money_spent_per_person)\n",
    "#money_spent_per_person['CartAmount'] = round(money_spent_per_person['CartAmount'],2)\n",
    "#money_spent_per_person.to_csv(\"money_spent_per_person.csv\",index=True)"
   ]
  },
  {
   "cell_type": "code",
   "execution_count": 32,
   "metadata": {},
   "outputs": [
    {
     "name": "stdout",
     "output_type": "stream",
     "text": [
      "                      country_buy\n",
      "Country                          \n",
      "Australia                      57\n",
      "Austria                        17\n",
      "Bahrain                         3\n",
      "Belgium                        98\n",
      "Brazil                          1\n",
      "Canada                          6\n",
      "Channel Islands                26\n",
      "Cyprus                         16\n",
      "Czech Republic                  2\n",
      "Denmark                        18\n",
      "EIRE                          288\n",
      "European Community              4\n",
      "Finland                        41\n",
      "France                        392\n",
      "Germany                       457\n",
      "Greece                          5\n",
      "Hong Kong                      11\n",
      "Iceland                         7\n",
      "Israel                          8\n",
      "Italy                          38\n",
      "Japan                          19\n",
      "Lebanon                         1\n",
      "Lithuania                       4\n",
      "Malta                           5\n",
      "Netherlands                    95\n",
      "Norway                         36\n",
      "Poland                         19\n",
      "Portugal                       58\n",
      "RSA                             1\n",
      "Saudi Arabia                    1\n",
      "Singapore                       7\n",
      "Spain                          90\n",
      "Sweden                         36\n",
      "Switzerland                    54\n",
      "USA                             5\n",
      "United Arab Emirates            3\n",
      "United Kingdom              18784\n",
      "Unspecified                    13\n"
     ]
    }
   ],
   "source": [
    "# Number of transactions per country\n",
    "country_buys = transactions.groupby('Country')['Country'].count()\n",
    "cb = pd.DataFrame({\"country_buy\":country_buys})\n",
    "print(cb)\n",
    "#cb.to_csv('reps/D3Visualizations/data/country_buys.csv', index=True)"
   ]
  },
  {
   "cell_type": "code",
   "execution_count": 33,
   "metadata": {
    "scrolled": false
   },
   "outputs": [
    {
     "name": "stdout",
     "output_type": "stream",
     "text": [
      "Description\n",
      "PAPER CRAFT , LITTLE BIRDIE            80995\n",
      "MEDIUM CERAMIC TOP STORAGE JAR         78033\n",
      "WORLD WAR 2 GLIDERS ASSTD DESIGNS      55047\n",
      "JUMBO BAG RED RETROSPOT                48478\n",
      "WHITE HANGING HEART T-LIGHT HOLDER     37895\n",
      "                                       ...  \n",
      "LILY BROOCH WHITE/SILVER COLOUR            1\n",
      "BLOSSOM IMAGES SCRAP BOOK SET              1\n",
      "CAPIZ CHANDELIER                           1\n",
      "DUSTY PINK CHRISTMAS TREE 30CM             1\n",
      "SET 10 CARDS CHRISTMAS BAUBLE 16954        1\n",
      "Name: Quantity, Length: 4077, dtype: int64\n"
     ]
    }
   ],
   "source": [
    "# Amount of each products purchased\n",
    "products_quantities = df.groupby('Description')['Quantity'].sum()\n",
    "print(products_quantities.sort_values(ascending=False))"
   ]
  },
  {
   "cell_type": "code",
   "execution_count": 34,
   "metadata": {},
   "outputs": [
    {
     "name": "stdout",
     "output_type": "stream",
     "text": [
      "StockCode\n",
      "85123A    2270\n",
      "85099B    2115\n",
      "22423     2019\n",
      "47566     1707\n",
      "20725     1595\n",
      "          ... \n",
      "22146        1\n",
      "79323B       1\n",
      "79323P       1\n",
      "85179a       1\n",
      "m            1\n",
      "Name: Quantity, Length: 3941, dtype: int64\n"
     ]
    }
   ],
   "source": [
    "# Number of times of adding to carts which contain that stock codes \n",
    "products_quantities_stocks = df.groupby('StockCode')['Quantity'].count().sort_values(ascending=False)\n",
    "print(products_quantities_stocks)"
   ]
  },
  {
   "cell_type": "code",
   "execution_count": 35,
   "metadata": {},
   "outputs": [],
   "source": [
    "#people_quantities = df.groupby('CustomerID')['Quantity'].sum()\n",
    "#print(people_quantities)"
   ]
  },
  {
   "cell_type": "code",
   "execution_count": 36,
   "metadata": {},
   "outputs": [
    {
     "data": {
      "text/plain": [
       "CustomerID\n",
       "12346.0                                         [2011-01-18]\n",
       "12347.0    [2010-12-07, 2011-01-26, 2011-04-07, 2011-06-0...\n",
       "12348.0     [2010-12-16, 2011-01-25, 2011-04-05, 2011-09-25]\n",
       "12349.0                                         [2011-11-21]\n",
       "12350.0                                         [2011-02-02]\n",
       "                                 ...                        \n",
       "18281.0                                         [2011-06-12]\n",
       "18282.0                             [2011-08-05, 2011-12-02]\n",
       "18283.0    [2011-01-06, 2011-01-23, 2011-02-28, 2011-04-2...\n",
       "18287.0                 [2011-05-22, 2011-10-12, 2011-10-28]\n",
       "XXXXX      [2010-12-01, 2010-12-01, 2010-12-01, 2010-12-0...\n",
       "Name: InvoiceDay, Length: 4340, dtype: object"
      ]
     },
     "execution_count": 36,
     "metadata": {},
     "output_type": "execute_result"
    }
   ],
   "source": [
    "transactions.groupby('CustomerID')['InvoiceDay'].apply(list)"
   ]
  },
  {
   "cell_type": "code",
   "execution_count": 37,
   "metadata": {},
   "outputs": [
    {
     "name": "stdout",
     "output_type": "stream",
     "text": [
      "CustomerID\n",
      "12346.0      1\n",
      "12347.0    182\n",
      "12348.0     31\n",
      "12349.0     73\n",
      "12350.0     17\n",
      "          ... \n",
      "18280.0     10\n",
      "18281.0      7\n",
      "18282.0     12\n",
      "18283.0    756\n",
      "18287.0     70\n",
      "Name: CustomerID, Length: 4339, dtype: int64\n"
     ]
    }
   ],
   "source": [
    "# Number of times products added to cart by each person\n",
    "people_transactions = df.groupby('CustomerID')['CustomerID'].count()\n",
    "#people_transactions = df.groupby('CustomerID')['StockCode'].apply(set)\n",
    "print(people_transactions)"
   ]
  },
  {
   "cell_type": "code",
   "execution_count": 38,
   "metadata": {},
   "outputs": [
    {
     "data": {
      "text/plain": [
       "CustomerID\n",
       "17841.0    7847\n",
       "14911.0    5677\n",
       "14096.0    5111\n",
       "12748.0    4596\n",
       "14606.0    2700\n",
       "           ... \n",
       "15524.0       1\n",
       "15562.0       1\n",
       "15657.0       1\n",
       "15668.0       1\n",
       "12346.0       1\n",
       "Name: CustomerID, Length: 4339, dtype: int64"
      ]
     },
     "execution_count": 38,
     "metadata": {},
     "output_type": "execute_result"
    }
   ],
   "source": [
    "people_transactions.sort_values(ascending=False)"
   ]
  },
  {
   "cell_type": "markdown",
   "metadata": {},
   "source": [
    "### Sampling of people for better visualization"
   ]
  },
  {
   "cell_type": "code",
   "execution_count": 153,
   "metadata": {},
   "outputs": [
    {
     "name": "stdout",
     "output_type": "stream",
     "text": [
      "Number of people sampled:  4339\n"
     ]
    }
   ],
   "source": [
    "# Sampling of people who have purchased more than 400 products\n",
    "people_sampled = people_transactions.sort_values(ascending=False)[people_transactions > 0].to_dict()\n",
    "print(\"Number of people sampled: \", len(people_sampled))"
   ]
  },
  {
   "cell_type": "code",
   "execution_count": 154,
   "metadata": {},
   "outputs": [
    {
     "data": {
      "text/plain": [
       "CustomerID\n",
       "12346.0      1\n",
       "12347.0    182\n",
       "12348.0     31\n",
       "12349.0     73\n",
       "12350.0     17\n",
       "          ... \n",
       "18280.0     10\n",
       "18281.0      7\n",
       "18282.0     12\n",
       "18283.0    756\n",
       "18287.0     70\n",
       "Name: CustomerID, Length: 4339, dtype: int64"
      ]
     },
     "execution_count": 154,
     "metadata": {},
     "output_type": "execute_result"
    }
   ],
   "source": [
    "people_transactions"
   ]
  },
  {
   "cell_type": "code",
   "execution_count": 155,
   "metadata": {},
   "outputs": [],
   "source": [
    "# Sampling of products by if this product is added to cart more than 1000 times\n",
    "products_quantities_stocks_sampled = products_quantities_stocks.sort_values(ascending=False)[products_quantities_stocks > 0].to_dict()"
   ]
  },
  {
   "cell_type": "code",
   "execution_count": null,
   "metadata": {},
   "outputs": [],
   "source": [
    "print(\"Number of different products\", len(products_quantities_stocks_sampled))"
   ]
  },
  {
   "cell_type": "code",
   "execution_count": 157,
   "metadata": {},
   "outputs": [
    {
     "data": {
      "text/plain": [
       "Description\n",
       " 4 PURPLE FLOCK DINNER CANDLES     290.80\n",
       " 50'S CHRISTMAS GIFT BAG LARGE    2343.63\n",
       " DOLLY GIRL BEAKER                2891.25\n",
       " I LOVE LONDON MINI BACKPACK      1628.17\n",
       " I LOVE LONDON MINI RUCKSACK         4.15\n",
       "                                   ...   \n",
       "wrongly coded 20713                  0.00\n",
       "wrongly coded 23343                  0.00\n",
       "wrongly marked                       0.00\n",
       "wrongly marked 23343                 0.00\n",
       "wrongly sold (22719) barcode         0.00\n",
       "Length: 4077, dtype: float64"
      ]
     },
     "execution_count": 157,
     "metadata": {},
     "output_type": "execute_result"
    }
   ],
   "source": [
    "# Money spent on each product\n",
    "df.groupby('Description').apply(lambda df,a,b: sum(df[a] * df[b]), 'Quantity', 'UnitPrice')"
   ]
  },
  {
   "cell_type": "code",
   "execution_count": 158,
   "metadata": {},
   "outputs": [],
   "source": [
    "#df.to_csv('data/transactions.csv', index=False)"
   ]
  },
  {
   "cell_type": "code",
   "execution_count": 159,
   "metadata": {},
   "outputs": [
    {
     "data": {
      "text/plain": [
       "CustomerID\n",
       "12346.0                                         [2011-01-18]\n",
       "12347.0    [2010-12-07, 2011-01-26, 2011-04-07, 2011-06-0...\n",
       "12348.0     [2010-12-16, 2011-01-25, 2011-04-05, 2011-09-25]\n",
       "12349.0                                         [2011-11-21]\n",
       "12350.0                                         [2011-02-02]\n",
       "                                 ...                        \n",
       "18281.0                                         [2011-06-12]\n",
       "18282.0                             [2011-08-05, 2011-12-02]\n",
       "18283.0    [2011-01-06, 2011-01-23, 2011-02-28, 2011-04-2...\n",
       "18287.0                 [2011-05-22, 2011-10-12, 2011-10-28]\n",
       "XXXXX      [2010-12-01, 2010-12-01, 2010-12-01, 2010-12-0...\n",
       "Name: InvoiceDay, Length: 4340, dtype: object"
      ]
     },
     "execution_count": 159,
     "metadata": {},
     "output_type": "execute_result"
    }
   ],
   "source": [
    "transactions.groupby('CustomerID')['InvoiceDay'].apply(list)"
   ]
  },
  {
   "cell_type": "code",
   "execution_count": 160,
   "metadata": {},
   "outputs": [],
   "source": [
    "# Purhased items per people as stock codes\n",
    "customer_stocks = transactions[['CustomerID','StockCodes','InvoiceDay','Country']]"
   ]
  },
  {
   "cell_type": "code",
   "execution_count": 161,
   "metadata": {},
   "outputs": [
    {
     "data": {
      "text/html": [
       "<div>\n",
       "<style scoped>\n",
       "    .dataframe tbody tr th:only-of-type {\n",
       "        vertical-align: middle;\n",
       "    }\n",
       "\n",
       "    .dataframe tbody tr th {\n",
       "        vertical-align: top;\n",
       "    }\n",
       "\n",
       "    .dataframe thead th {\n",
       "        text-align: right;\n",
       "    }\n",
       "</style>\n",
       "<table border=\"1\" class=\"dataframe\">\n",
       "  <thead>\n",
       "    <tr style=\"text-align: right;\">\n",
       "      <th></th>\n",
       "      <th>CustomerID</th>\n",
       "      <th>StockCodes</th>\n",
       "      <th>InvoiceDay</th>\n",
       "      <th>Country</th>\n",
       "    </tr>\n",
       "    <tr>\n",
       "      <th>InvoiceNo</th>\n",
       "      <th></th>\n",
       "      <th></th>\n",
       "      <th></th>\n",
       "      <th></th>\n",
       "    </tr>\n",
       "  </thead>\n",
       "  <tbody>\n",
       "    <tr>\n",
       "      <th>536365</th>\n",
       "      <td>17850</td>\n",
       "      <td>[85123A, 71053, 84406B, 84029G, 84029E, 22752,...</td>\n",
       "      <td>2010-12-01</td>\n",
       "      <td>United Kingdom</td>\n",
       "    </tr>\n",
       "    <tr>\n",
       "      <th>536366</th>\n",
       "      <td>17850</td>\n",
       "      <td>[22633, 22632]</td>\n",
       "      <td>2010-12-01</td>\n",
       "      <td>United Kingdom</td>\n",
       "    </tr>\n",
       "    <tr>\n",
       "      <th>536367</th>\n",
       "      <td>13047</td>\n",
       "      <td>[84879, 22745, 22748, 22749, 22310, 84969, 226...</td>\n",
       "      <td>2010-12-01</td>\n",
       "      <td>United Kingdom</td>\n",
       "    </tr>\n",
       "    <tr>\n",
       "      <th>536368</th>\n",
       "      <td>13047</td>\n",
       "      <td>[22960, 22913, 22912, 22914]</td>\n",
       "      <td>2010-12-01</td>\n",
       "      <td>United Kingdom</td>\n",
       "    </tr>\n",
       "    <tr>\n",
       "      <th>536369</th>\n",
       "      <td>13047</td>\n",
       "      <td>[21756]</td>\n",
       "      <td>2010-12-01</td>\n",
       "      <td>United Kingdom</td>\n",
       "    </tr>\n",
       "    <tr>\n",
       "      <th>536370</th>\n",
       "      <td>12583</td>\n",
       "      <td>[22728, 22727, 22726, 21724, 21883, 10002, 217...</td>\n",
       "      <td>2010-12-01</td>\n",
       "      <td>France</td>\n",
       "    </tr>\n",
       "    <tr>\n",
       "      <th>536371</th>\n",
       "      <td>13748</td>\n",
       "      <td>[22086]</td>\n",
       "      <td>2010-12-01</td>\n",
       "      <td>United Kingdom</td>\n",
       "    </tr>\n",
       "    <tr>\n",
       "      <th>536372</th>\n",
       "      <td>17850</td>\n",
       "      <td>[22632, 22633]</td>\n",
       "      <td>2010-12-01</td>\n",
       "      <td>United Kingdom</td>\n",
       "    </tr>\n",
       "    <tr>\n",
       "      <th>536373</th>\n",
       "      <td>17850</td>\n",
       "      <td>[85123A, 71053, 84406B, 20679, 37370, 21871, 2...</td>\n",
       "      <td>2010-12-01</td>\n",
       "      <td>United Kingdom</td>\n",
       "    </tr>\n",
       "    <tr>\n",
       "      <th>536374</th>\n",
       "      <td>15100</td>\n",
       "      <td>[21258]</td>\n",
       "      <td>2010-12-01</td>\n",
       "      <td>United Kingdom</td>\n",
       "    </tr>\n",
       "  </tbody>\n",
       "</table>\n",
       "</div>"
      ],
      "text/plain": [
       "          CustomerID                                         StockCodes  \\\n",
       "InvoiceNo                                                                 \n",
       "536365         17850  [85123A, 71053, 84406B, 84029G, 84029E, 22752,...   \n",
       "536366         17850                                     [22633, 22632]   \n",
       "536367         13047  [84879, 22745, 22748, 22749, 22310, 84969, 226...   \n",
       "536368         13047                       [22960, 22913, 22912, 22914]   \n",
       "536369         13047                                            [21756]   \n",
       "536370         12583  [22728, 22727, 22726, 21724, 21883, 10002, 217...   \n",
       "536371         13748                                            [22086]   \n",
       "536372         17850                                     [22632, 22633]   \n",
       "536373         17850  [85123A, 71053, 84406B, 20679, 37370, 21871, 2...   \n",
       "536374         15100                                            [21258]   \n",
       "\n",
       "           InvoiceDay         Country  \n",
       "InvoiceNo                              \n",
       "536365     2010-12-01  United Kingdom  \n",
       "536366     2010-12-01  United Kingdom  \n",
       "536367     2010-12-01  United Kingdom  \n",
       "536368     2010-12-01  United Kingdom  \n",
       "536369     2010-12-01  United Kingdom  \n",
       "536370     2010-12-01          France  \n",
       "536371     2010-12-01  United Kingdom  \n",
       "536372     2010-12-01  United Kingdom  \n",
       "536373     2010-12-01  United Kingdom  \n",
       "536374     2010-12-01  United Kingdom  "
      ]
     },
     "execution_count": 161,
     "metadata": {},
     "output_type": "execute_result"
    }
   ],
   "source": [
    "customer_stocks.head(10)"
   ]
  },
  {
   "cell_type": "code",
   "execution_count": 162,
   "metadata": {},
   "outputs": [],
   "source": [
    "#customer_stocks[customer_stocks['CustomerID']==17850].Country[0]"
   ]
  },
  {
   "cell_type": "markdown",
   "metadata": {},
   "source": [
    "### Graph Creation\n",
    "\n",
    "#### edges creation"
   ]
  },
  {
   "cell_type": "code",
   "execution_count": 163,
   "metadata": {},
   "outputs": [],
   "source": [
    "# Links creation of \n",
    "links = []\n",
    "links_big = []\n",
    "customer_ids_dict = dict()\n",
    "j=0\n",
    "\n",
    "stock_codes_dict = dict()\n",
    "stock_codes_descriptions_dict = dict()\n",
    "\n",
    "k=6000\n",
    "\n",
    "for i in range(0,len(customer_stocks)):\n",
    "    cs = customer_stocks.iloc[i]\n",
    "    cid = customer_stocks.iloc[i].CustomerID \n",
    "    if(cid != 'XXXXX' and cid in people_sampled):\n",
    "        \n",
    "        for sc in customer_stocks.iloc[i].StockCodes:\n",
    "\n",
    "            if(sc in products_quantities_stocks_sampled):\n",
    "                \n",
    "                if (cid not in customer_ids_dict):\n",
    "                    customer_ids_dict[cid] = j\n",
    "                    j += 1\n",
    "                \n",
    "                if (sc not in stock_codes_dict):\n",
    "                    stock_codes_dict[sc] = k\n",
    "                    stock_codes_descriptions_dict[k] = stock_code_dict[sc][0]\n",
    "                    k += 1\n",
    "                \n",
    "                #link_element_big = {\"source\":str(customer_ids_dict[cid]),\"target\":str(stock_codes_dict[sc]),\"invoiceday\":, \"type\": \"A\"}\n",
    "                link_element_big = {\"source\":str(customer_ids_dict[cid]),\"target\":str(stock_codes_dict[sc]),\"invoice_day\": customer_stocks.iloc[i].InvoiceDay, \"type\": \"A\"}\n",
    "                links_big.append(link_element_big)\n",
    "                \n",
    "                #link_element = {\"source\":customer_ids_dict[cid],\"target\":stock_codes_dict[sc], \"value\": 10}\n",
    "                #link_element = {\"source\":str(customer_ids_dict[cid]),\"target\":str(stock_codes_dict[sc]), \"type\": \"A\"}\n",
    "                #links.append(link_element)"
   ]
  },
  {
   "cell_type": "code",
   "execution_count": 164,
   "metadata": {},
   "outputs": [
    {
     "name": "stdout",
     "output_type": "stream",
     "text": [
      "Number of edges:  387875\n"
     ]
    }
   ],
   "source": [
    "print(\"Number of edges: \",len(links_big))"
   ]
  },
  {
   "cell_type": "code",
   "execution_count": 165,
   "metadata": {},
   "outputs": [
    {
     "data": {
      "text/plain": [
       "{'source': '3250', 'target': '8392', 'invoice_day': '2011-12-09', 'type': 'A'}"
      ]
     },
     "execution_count": 165,
     "metadata": {},
     "output_type": "execute_result"
    }
   ],
   "source": [
    "link_element_big"
   ]
  },
  {
   "cell_type": "code",
   "execution_count": 167,
   "metadata": {},
   "outputs": [
    {
     "data": {
      "text/plain": [
       "3665"
      ]
     },
     "execution_count": 167,
     "metadata": {},
     "output_type": "execute_result"
    }
   ],
   "source": [
    "len(stock_codes_dict)"
   ]
  },
  {
   "cell_type": "code",
   "execution_count": 169,
   "metadata": {},
   "outputs": [],
   "source": [
    "import json\n",
    "with open('stock_descriptions_big.json', 'w') as json_file:\n",
    "    json.dump(stock_codes_descriptions_dict, json_file)"
   ]
  },
  {
   "cell_type": "code",
   "execution_count": 170,
   "metadata": {},
   "outputs": [
    {
     "data": {
      "text/plain": [
       "[{'source': '0', 'target': '6000', 'invoice_day': '2010-12-01', 'type': 'A'},\n",
       " {'source': '0', 'target': '6001', 'invoice_day': '2010-12-01', 'type': 'A'},\n",
       " {'source': '0', 'target': '6002', 'invoice_day': '2010-12-01', 'type': 'A'}]"
      ]
     },
     "execution_count": 170,
     "metadata": {},
     "output_type": "execute_result"
    }
   ],
   "source": [
    "links_big[:3]"
   ]
  },
  {
   "cell_type": "markdown",
   "metadata": {},
   "source": [
    "### Graph nodes construction"
   ]
  },
  {
   "cell_type": "code",
   "execution_count": 171,
   "metadata": {},
   "outputs": [],
   "source": [
    "nodes = []\n",
    "nodes_big = []\n",
    "for i in customer_ids_dict:\n",
    "    person_country = customer_stocks[customer_stocks['CustomerID']==i].Country[0]\n",
    "    node_element_big = {\"name\":str(customer_ids_dict[i]),\"sex\":\"F\", \"country\":person_country}\n",
    "    nodes_big.append(node_element_big)\n",
    "    \n",
    "    #node_element = {\"name\":str(customer_ids_dict[i]),\"sex\":\"F\"}\n",
    "    #nodes.append(node_element)\n",
    "\n",
    "for j in stock_codes_dict:\n",
    "    node_element_big = {\"name\":str(stock_codes_dict[j]),\"sex\":\"M\",\"country\":\"PRODUCT\"}\n",
    "    nodes_big.append(node_element_big)\n",
    "    \n",
    "    #node_element = {\"name\":str(stock_codes_dict[j]),\"sex\":\"M\"}\n",
    "    #nodes.append(node_element)"
   ]
  },
  {
   "cell_type": "code",
   "execution_count": 172,
   "metadata": {},
   "outputs": [
    {
     "name": "stdout",
     "output_type": "stream",
     "text": [
      "Number of nodes:  8004\n"
     ]
    }
   ],
   "source": [
    "print(\"Number of nodes: \",len(nodes_big))"
   ]
  },
  {
   "cell_type": "code",
   "execution_count": 173,
   "metadata": {},
   "outputs": [
    {
     "data": {
      "text/plain": [
       "{'name': '9664', 'sex': 'M', 'country': 'PRODUCT'}"
      ]
     },
     "execution_count": 173,
     "metadata": {},
     "output_type": "execute_result"
    }
   ],
   "source": [
    "node_element_big"
   ]
  },
  {
   "cell_type": "code",
   "execution_count": 174,
   "metadata": {},
   "outputs": [],
   "source": [
    "import json"
   ]
  },
  {
   "cell_type": "code",
   "execution_count": 175,
   "metadata": {},
   "outputs": [],
   "source": [
    "with open('links_modif_big.js', 'w') as json_file:\n",
    "    json.dump(links_big, json_file)"
   ]
  },
  {
   "cell_type": "code",
   "execution_count": 176,
   "metadata": {},
   "outputs": [],
   "source": [
    "with open('nodes_modif_big.js', 'w') as json_file:\n",
    "    json.dump(nodes_big, json_file)"
   ]
  },
  {
   "cell_type": "markdown",
   "metadata": {},
   "source": [
    "### Customer buy dates"
   ]
  },
  {
   "cell_type": "code",
   "execution_count": 68,
   "metadata": {},
   "outputs": [],
   "source": [
    "# Number of transactions per user in each day, (sampled and reduced customer id version)\n",
    "transactions[['CustomerID','InvoiceDay','StockCodes']].groupby(['CustomerID','InvoiceDay']).count().to_csv(\"customer_buydates.csv\",index=True)\n",
    "customer_buydates = pd.read_csv('customer_buydates.csv')"
   ]
  },
  {
   "cell_type": "code",
   "execution_count": 69,
   "metadata": {},
   "outputs": [],
   "source": [
    "customer_buydates_person = []\n",
    "customer_buydates_when = []\n",
    "customer_buydates_count = []\n",
    "\n",
    "for ci in range(0,len(customer_buydates)):\n",
    "    if(customer_buydates.iloc[ci]['CustomerID'] == 'XXXXX' or float(customer_buydates.iloc[ci]['CustomerID']) not in customer_ids_dict):\n",
    "        \"\"\n",
    "        #print(customer_buydates.iloc[ci]['CustomerID'])\n",
    "        #customer_buydates = customer_buydates.drop(index=ci)\n",
    "    else:\n",
    "        customer_buydates_person.append(customer_ids_dict[float(customer_buydates.iloc[ci]['CustomerID'])])\n",
    "        customer_buydates_when.append(customer_buydates.iloc[ci]['InvoiceDay'])\n",
    "        customer_buydates_count.append(customer_buydates.iloc[ci]['StockCodes'])\n",
    "\n",
    "customer_buydates_sampled = pd.DataFrame({'Customer':customer_buydates_person,'InvoiceDay':customer_buydates_when,'Count':customer_buydates_count})"
   ]
  },
  {
   "cell_type": "code",
   "execution_count": 70,
   "metadata": {},
   "outputs": [
    {
     "data": {
      "text/html": [
       "<div>\n",
       "<style scoped>\n",
       "    .dataframe tbody tr th:only-of-type {\n",
       "        vertical-align: middle;\n",
       "    }\n",
       "\n",
       "    .dataframe tbody tr th {\n",
       "        vertical-align: top;\n",
       "    }\n",
       "\n",
       "    .dataframe thead th {\n",
       "        text-align: right;\n",
       "    }\n",
       "</style>\n",
       "<table border=\"1\" class=\"dataframe\">\n",
       "  <thead>\n",
       "    <tr style=\"text-align: right;\">\n",
       "      <th></th>\n",
       "      <th>Customer</th>\n",
       "      <th>InvoiceDay</th>\n",
       "      <th>Count</th>\n",
       "    </tr>\n",
       "  </thead>\n",
       "  <tbody>\n",
       "    <tr>\n",
       "      <th>0</th>\n",
       "      <td>266</td>\n",
       "      <td>2011-01-12</td>\n",
       "      <td>1</td>\n",
       "    </tr>\n",
       "    <tr>\n",
       "      <th>1</th>\n",
       "      <td>266</td>\n",
       "      <td>2011-02-07</td>\n",
       "      <td>1</td>\n",
       "    </tr>\n",
       "    <tr>\n",
       "      <th>2</th>\n",
       "      <td>266</td>\n",
       "      <td>2011-06-03</td>\n",
       "      <td>1</td>\n",
       "    </tr>\n",
       "    <tr>\n",
       "      <th>3</th>\n",
       "      <td>266</td>\n",
       "      <td>2011-10-13</td>\n",
       "      <td>1</td>\n",
       "    </tr>\n",
       "    <tr>\n",
       "      <th>4</th>\n",
       "      <td>332</td>\n",
       "      <td>2011-02-17</td>\n",
       "      <td>1</td>\n",
       "    </tr>\n",
       "    <tr>\n",
       "      <th>5</th>\n",
       "      <td>332</td>\n",
       "      <td>2011-04-28</td>\n",
       "      <td>1</td>\n",
       "    </tr>\n",
       "    <tr>\n",
       "      <th>6</th>\n",
       "      <td>332</td>\n",
       "      <td>2011-07-07</td>\n",
       "      <td>1</td>\n",
       "    </tr>\n",
       "    <tr>\n",
       "      <th>7</th>\n",
       "      <td>332</td>\n",
       "      <td>2011-08-11</td>\n",
       "      <td>1</td>\n",
       "    </tr>\n",
       "    <tr>\n",
       "      <th>8</th>\n",
       "      <td>332</td>\n",
       "      <td>2011-09-28</td>\n",
       "      <td>1</td>\n",
       "    </tr>\n",
       "    <tr>\n",
       "      <th>9</th>\n",
       "      <td>332</td>\n",
       "      <td>2011-10-11</td>\n",
       "      <td>1</td>\n",
       "    </tr>\n",
       "  </tbody>\n",
       "</table>\n",
       "</div>"
      ],
      "text/plain": [
       "   Customer  InvoiceDay  Count\n",
       "0       266  2011-01-12      1\n",
       "1       266  2011-02-07      1\n",
       "2       266  2011-06-03      1\n",
       "3       266  2011-10-13      1\n",
       "4       332  2011-02-17      1\n",
       "5       332  2011-04-28      1\n",
       "6       332  2011-07-07      1\n",
       "7       332  2011-08-11      1\n",
       "8       332  2011-09-28      1\n",
       "9       332  2011-10-11      1"
      ]
     },
     "execution_count": 70,
     "metadata": {},
     "output_type": "execute_result"
    }
   ],
   "source": [
    "customer_buydates_sampled.head(10)\n",
    "#customer_buydates_sampled.to_csv(\"customer_buydates_sampled_big.csv\",index=False)"
   ]
  }
 ],
 "metadata": {
  "kernelspec": {
   "display_name": "Python 3",
   "language": "python",
   "name": "python3"
  },
  "language_info": {
   "codemirror_mode": {
    "name": "ipython",
    "version": 3
   },
   "file_extension": ".py",
   "mimetype": "text/x-python",
   "name": "python",
   "nbconvert_exporter": "python",
   "pygments_lexer": "ipython3",
   "version": "3.7.7"
  }
 },
 "nbformat": 4,
 "nbformat_minor": 2
}
